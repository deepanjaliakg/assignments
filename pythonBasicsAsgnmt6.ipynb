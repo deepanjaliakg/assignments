{
 "cells": [
  {
   "cell_type": "markdown",
   "id": "2c89505a",
   "metadata": {},
   "source": [
    "     1     Escape charactors are charactors in string(\"\\\"), it is used to represent whitespace charactors."
   ]
  },
  {
   "cell_type": "markdown",
   "id": "0f54b173",
   "metadata": {},
   "source": [
    "     2    \"\\n\" is for new line and \"\\t| is tab."
   ]
  },
  {
   "cell_type": "markdown",
   "id": "6a8a74a0",
   "metadata": {},
   "source": [
    "     3   Use \\\\ to add backslash charactor in string."
   ]
  },
  {
   "cell_type": "markdown",
   "id": "9be30558",
   "metadata": {},
   "source": [
    "     4   If you use \" \" to represent a string then ' inside the string won't make problem."
   ]
  },
  {
   "cell_type": "markdown",
   "id": "a2911fd6",
   "metadata": {},
   "source": [
    "     5   \"Hello,world!\"[1] = \"e\"\n",
    "         \"Hello,world!\"[0:5] = \"Hello\"\n",
    "         \"Hello,world!\"[:5] = \"Hello\"\n",
    "         \"Hello,world!\"[3:] = \"lo,world!\""
   ]
  },
  {
   "cell_type": "markdown",
   "id": "baf68147",
   "metadata": {},
   "source": [
    "    6    \"Hello\".upper() = \"HELLO\"\n",
    "         \"Hello\".upper().isupper() = True\n",
    "         \"Hello\".upper().lower() = 'hello'"
   ]
  },
  {
   "cell_type": "markdown",
   "id": "ada25a25",
   "metadata": {},
   "source": [
    "    7   \"Remember, remember, the fifth of July.\".split() = ['Remember,', 'remember,', 'the', 'fifth', 'of', 'November.']\n",
    "         \"-\".join(\"There can only one.\".split()) = \"There-can-be-only-one.\""
   ]
  },
  {
   "cell_type": "markdown",
   "id": "098fb59b",
   "metadata": {},
   "source": [
    "    8    The  rjust() , ljust() ,center() are the methods."
   ]
  },
  {
   "cell_type": "markdown",
   "id": "78b89195",
   "metadata": {},
   "source": [
    "    9    The rstrip() and lstrip() are the methods to remove whitespace charactors."
   ]
  }
 ],
 "metadata": {
  "kernelspec": {
   "display_name": "Python 3 (ipykernel)",
   "language": "python",
   "name": "python3"
  },
  "language_info": {
   "codemirror_mode": {
    "name": "ipython",
    "version": 3
   },
   "file_extension": ".py",
   "mimetype": "text/x-python",
   "name": "python",
   "nbconvert_exporter": "python",
   "pygments_lexer": "ipython3",
   "version": "3.9.12"
  }
 },
 "nbformat": 4,
 "nbformat_minor": 5
}
