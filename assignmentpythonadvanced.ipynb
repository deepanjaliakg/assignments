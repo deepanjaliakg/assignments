{
 "cells": [
  {
   "cell_type": "raw",
   "id": "6d4a7d6a",
   "metadata": {},
   "source": [
    "1.   It is an object oriented approach. we can easily create classes and objects."
   ]
  },
  {
   "cell_type": "markdown",
   "id": "eccb322f",
   "metadata": {},
   "source": [
    "2.  First in the instance object, then in the class the instance was created from, \n",
    "   then in all higher superclasses, progressing from left to right ."
   ]
  },
  {
   "cell_type": "markdown",
   "id": "072626c2",
   "metadata": {},
   "source": [
    "3. Class objects represent the class itself, while instance objects represent individual instances of the class."
   ]
  },
  {
   "cell_type": "markdown",
   "id": "7cf4f04d",
   "metadata": {},
   "source": [
    "4. When Python calls a method in your class, it will pass in the actual instance of that class \n",
    "   that you're working with as the first argument, in Python we use the word self ."
   ]
  },
  {
   "cell_type": "markdown",
   "id": "07d27ee8",
   "metadata": {},
   "source": [
    "5. The purpose of  __init__ method is  to initialize the attributes of an object as soon as the object is formed. "
   ]
  },
  {
   "cell_type": "markdown",
   "id": "e2481abd",
   "metadata": {},
   "source": [
    "6. To create instances of a class, you call the class using class name and pass in whatever arguments its __init__ \n",
    "   method accepts."
   ]
  },
  {
   "cell_type": "markdown",
   "id": "8823f72c",
   "metadata": {},
   "source": [
    "7.  Classes are created using class keyword.\n",
    "    A colon (:) is used after the class name.\n",
    "    The class is made up of attributes (data) and methods (functions).\n",
    "    Attributes that apply to the whole class are defined first and are called class attributes .\n",
    "    Attributes can be accessed using the dot (.)"
   ]
  },
  {
   "cell_type": "markdown",
   "id": "b4f326f7",
   "metadata": {},
   "source": [
    "8. The class from which a class inherits is called the parent or superclass."
   ]
  }
 ],
 "metadata": {
  "kernelspec": {
   "display_name": "Python 3 (ipykernel)",
   "language": "python",
   "name": "python3"
  },
  "language_info": {
   "codemirror_mode": {
    "name": "ipython",
    "version": 3
   },
   "file_extension": ".py",
   "mimetype": "text/x-python",
   "name": "python",
   "nbconvert_exporter": "python",
   "pygments_lexer": "ipython3",
   "version": "3.9.12"
  }
 },
 "nbformat": 4,
 "nbformat_minor": 5
}
