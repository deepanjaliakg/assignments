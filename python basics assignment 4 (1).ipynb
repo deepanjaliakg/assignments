{
 "cells": [
  {
   "cell_type": "markdown",
   "id": "fb530a70",
   "metadata": {},
   "source": [
    "    1 [] is an empty list."
   ]
  },
  {
   "cell_type": "code",
   "execution_count": 6,
   "id": "a76262b5",
   "metadata": {},
   "outputs": [],
   "source": [
    "spam = [2,4,6,8,10]\n",
    "spam[2] = \"hello\""
   ]
  },
  {
   "cell_type": "code",
   "execution_count": 8,
   "id": "81f55ca3",
   "metadata": {},
   "outputs": [
    {
     "data": {
      "text/plain": [
       "'d'"
      ]
     },
     "execution_count": 8,
     "metadata": {},
     "output_type": "execute_result"
    }
   ],
   "source": [
    "spam= ['a','b','c','d']\n",
    "spam[int(int('3'*2)/11)]    "
   ]
  },
  {
   "cell_type": "code",
   "execution_count": 9,
   "id": "6264e511",
   "metadata": {},
   "outputs": [
    {
     "data": {
      "text/plain": [
       "'d'"
      ]
     },
     "execution_count": 9,
     "metadata": {},
     "output_type": "execute_result"
    }
   ],
   "source": [
    "spam[-1]"
   ]
  },
  {
   "cell_type": "code",
   "execution_count": 10,
   "id": "a733b346",
   "metadata": {},
   "outputs": [
    {
     "data": {
      "text/plain": [
       "['a', 'b']"
      ]
     },
     "execution_count": 10,
     "metadata": {},
     "output_type": "execute_result"
    }
   ],
   "source": [
    "spam[:2]"
   ]
  },
  {
   "cell_type": "code",
   "execution_count": 11,
   "id": "60d7056a",
   "metadata": {},
   "outputs": [
    {
     "data": {
      "text/plain": [
       "1"
      ]
     },
     "execution_count": 11,
     "metadata": {},
     "output_type": "execute_result"
    }
   ],
   "source": [
    "bacon = [3.14,'cat',11,'cat',True]\n",
    "bacon.index(\"cat\")"
   ]
  },
  {
   "cell_type": "markdown",
   "id": "2dc09981",
   "metadata": {},
   "source": [
    "    7  bacon.append(99) will append the value 99 as the last element in bacon. bacon = [3.14,'cat',11,'cat',True]"
   ]
  },
  {
   "cell_type": "markdown",
   "id": "ef3d4cc3",
   "metadata": {},
   "source": [
    "    8  bacon .remove(\"cat\") will remove the first \"cat\" from the list bacon.  bacon =  [3.14 ,11 ,'cat', True]"
   ]
  },
  {
   "cell_type": "markdown",
   "id": "67a20cdd",
   "metadata": {},
   "source": [
    "    9  The operator for list concatination is + and for list replication is *."
   ]
  },
  {
   "cell_type": "markdown",
   "id": "b5b2a1db",
   "metadata": {},
   "source": [
    "    10   l.append() will add a value to the end of the list , l.insert() can add value anywhere in the list there we can                 give the position and value."
   ]
  },
  {
   "cell_type": "markdown",
   "id": "793ac97f",
   "metadata": {},
   "source": [
    "     11  del and remove are two methods for removing items from list."
   ]
  },
  {
   "cell_type": "markdown",
   "id": "d8c093ef",
   "metadata": {},
   "source": [
    "    12   Both list and string have indexes and slices which can be used in for loops.\n",
    "      Concatination and replication are valid for both."
   ]
  },
  {
   "cell_type": "markdown",
   "id": "408b6713",
   "metadata": {},
   "source": [
    "    13  List are mutable and tuples are immutable, we can not change it. Notation for list is [] and tuple is ()."
   ]
  },
  {
   "cell_type": "markdown",
   "id": "7fbb53fe",
   "metadata": {},
   "source": [
    "     14  t = (42) "
   ]
  },
  {
   "cell_type": "markdown",
   "id": "4913eef6",
   "metadata": {},
   "source": [
    "     15  l = list and t = tuple, then list(t) will give list form of tuple and tuple(l) will give the tuple form of list."
   ]
  },
  {
   "cell_type": "markdown",
   "id": "b589ff61",
   "metadata": {},
   "source": [
    "     16  references to list."
   ]
  },
  {
   "cell_type": "markdown",
   "id": "78570d30",
   "metadata": {},
   "source": [
    "     17  copy.copy() will do copy and copy.deepcopy() will only duplicate the data."
   ]
  }
 ],
 "metadata": {
  "kernelspec": {
   "display_name": "Python 3 (ipykernel)",
   "language": "python",
   "name": "python3"
  },
  "language_info": {
   "codemirror_mode": {
    "name": "ipython",
    "version": 3
   },
   "file_extension": ".py",
   "mimetype": "text/x-python",
   "name": "python",
   "nbconvert_exporter": "python",
   "pygments_lexer": "ipython3",
   "version": "3.9.12"
  }
 },
 "nbformat": 4,
 "nbformat_minor": 5
}
