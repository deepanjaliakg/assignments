{
 "cells": [
  {
   "cell_type": "markdown",
   "id": "1704f167",
   "metadata": {},
   "source": [
    "1.  values -\"hello\" , -87.8,6 \n",
    "    expressions - *, -, ?,+"
   ]
  },
  {
   "cell_type": "markdown",
   "id": "37c4b193",
   "metadata": {},
   "source": [
    "2. String is a type of data and variable is a place to store any kind of data.\n",
    "   eg: \"abc\" is a string whereas in abc = 4 , abc is a variable used to store the integer 4."
   ]
  },
  {
   "cell_type": "markdown",
   "id": "a0f63666",
   "metadata": {},
   "source": [
    "3. integer(int): Integer data type stores positive and negative integers including zero. Eg :5,6,7\n",
    "   \n",
    "   List( list):List are used to store collection of data in one variable. The list elements are enclosed in square brackets.In    a list any type of data can be stored. Each element in a list has an index number. Eg l= [1,2,3,\"d\",\"a\",\"p\"]\n",
    "   \n",
    "   Dictionary(dict): Dictionary is used to store key value pair as data. Values in a dictionary can be any type of data but  a    key can not be a list or dictionary .A key must be unique."
   ]
  },
  {
   "cell_type": "markdown",
   "id": "17704e51",
   "metadata": {},
   "source": [
    "4. An expression is a combination of operators and values.An expression produce another value.\n",
    "     Eg: 7+9"
   ]
  },
  {
   "cell_type": "markdown",
   "id": "d6976fed",
   "metadata": {},
   "source": [
    "5. An expression gives another value. A statement says some information or assigns a value to a variable. "
   ]
  },
  {
   "cell_type": "markdown",
   "id": "9d5f15f4",
   "metadata": {},
   "source": [
    "6. If 22bacon and 1 are strings the the variable 22bacon+1 will contain the string \"22bacon1\". Otherwise we can not perform the    operation between a string and an integer."
   ]
  },
  {
   "cell_type": "markdown",
   "id": "51d6a6df",
   "metadata": {},
   "source": [
    "7. 'spam'+\"spamspam\"=\"spamspamspam\"\n",
    "                     \"spam\"*3= \"spamspamspam\"\n"
   ]
  },
  {
   "cell_type": "markdown",
   "id": "9da414c3",
   "metadata": {},
   "source": [
    "8. egg is not a literal where as 100 is a literal ,it is an integer datatype. "
   ]
  },
  {
   "cell_type": "markdown",
   "id": "a1cdf5e8",
   "metadata": {},
   "source": [
    "9. int(), float(), str()"
   ]
  },
  {
   "cell_type": "markdown",
   "id": "6ed38def",
   "metadata": {},
   "source": [
    "10.Here we can not add a string and integer. If we convert 99 as a string then we can do the operation.    \n",
    "\"i have eaten\"+\"99\"+\"burritos"
   ]
  }
 ],
 "metadata": {
  "kernelspec": {
   "display_name": "Python 3 (ipykernel)",
   "language": "python",
   "name": "python3"
  },
  "language_info": {
   "codemirror_mode": {
    "name": "ipython",
    "version": 3
   },
   "file_extension": ".py",
   "mimetype": "text/x-python",
   "name": "python",
   "nbconvert_exporter": "python",
   "pygments_lexer": "ipython3",
   "version": "3.9.12"
  }
 },
 "nbformat": 4,
 "nbformat_minor": 5
}
