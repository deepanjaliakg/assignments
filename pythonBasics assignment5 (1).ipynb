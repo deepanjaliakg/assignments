{
 "cells": [
  {
   "cell_type": "markdown",
   "id": "8b1561ad",
   "metadata": {},
   "source": [
    "    1    {}"
   ]
  },
  {
   "cell_type": "markdown",
   "id": "7346c694",
   "metadata": {},
   "source": [
    "    2     {\"foo\" : 42}     \n",
    "         Value of \"foo\" is 42.\n",
    "   "
   ]
  },
  {
   "cell_type": "markdown",
   "id": "5d7acc4f",
   "metadata": {},
   "source": [
    "    3   The items in a dictionary are key value pair, the items in a list are single elements. "
   ]
  },
  {
   "cell_type": "markdown",
   "id": "ec6895d9",
   "metadata": {},
   "source": [
    "    4    We will get an error, because \"foo\" key is not available in spam."
   ]
  },
  {
   "cell_type": "markdown",
   "id": "3ce514c0",
   "metadata": {},
   "source": [
    "    5   There is no difference between \"cat\" in spam and \"cat\" in spam.keys().Both will check whether \"cat\" exist as a key."
   ]
  },
  {
   "cell_type": "markdown",
   "id": "6b8fbec9",
   "metadata": {},
   "source": [
    "    6    \"cat\" in spam check whether \"cat\" is available as a key in spam, \n",
    "       and \"cat\" in spam.values() check whether \"cat\" is avilable in spam as a value."
   ]
  },
  {
   "cell_type": "markdown",
   "id": "951bd135",
   "metadata": {},
   "source": [
    "    7   spam.setdefault(\"colour\",\"black\")"
   ]
  },
  {
   "cell_type": "markdown",
   "id": "8fec50a1",
   "metadata": {},
   "source": [
    "    8   pprint.pprint()"
   ]
  }
 ],
 "metadata": {
  "kernelspec": {
   "display_name": "Python 3 (ipykernel)",
   "language": "python",
   "name": "python3"
  },
  "language_info": {
   "codemirror_mode": {
    "name": "ipython",
    "version": 3
   },
   "file_extension": ".py",
   "mimetype": "text/x-python",
   "name": "python",
   "nbconvert_exporter": "python",
   "pygments_lexer": "ipython3",
   "version": "3.9.12"
  }
 },
 "nbformat": 4,
 "nbformat_minor": 5
}
