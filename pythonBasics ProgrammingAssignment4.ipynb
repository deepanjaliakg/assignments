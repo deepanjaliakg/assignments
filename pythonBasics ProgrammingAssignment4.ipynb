{
 "cells": [
  {
   "cell_type": "code",
   "execution_count": 20,
   "id": "8d4cc8d8",
   "metadata": {},
   "outputs": [
    {
     "name": "stdout",
     "output_type": "stream",
     "text": [
      "enter the number 7\n",
      "factorial =  5040\n"
     ]
    }
   ],
   "source": [
    "n = int(input(\"enter the number \"))\n",
    "f=1\n",
    "if n== 0:\n",
    "    print(\"factorial =\", 1)\n",
    "elif n <0 :\n",
    "    print(\"factorial not exist\")\n",
    "else:\n",
    "    for i in range(1,n+1):\n",
    "        f = f*i\n",
    "    print(\"factorial = \", f)"
   ]
  },
  {
   "cell_type": "code",
   "execution_count": 21,
   "id": "18311063",
   "metadata": {},
   "outputs": [
    {
     "name": "stdout",
     "output_type": "stream",
     "text": [
      "enter a number to get multiplication table3\n",
      "3 * 1 = 3\n",
      "3 * 2 = 6\n",
      "3 * 3 = 9\n",
      "3 * 4 = 12\n",
      "3 * 5 = 15\n",
      "3 * 6 = 18\n",
      "3 * 7 = 21\n",
      "3 * 8 = 24\n",
      "3 * 9 = 27\n",
      "3 * 10 = 30\n"
     ]
    }
   ],
   "source": [
    "m = int(input(\"enter a number to get multiplication table \"))\n",
    "if m <0:\n",
    "    print(\"multiplication table not exist\")\n",
    "else:\n",
    "    for i in range(1,11):\n",
    "        m1 = m*i\n",
    "        print(m,\"*\",i, \"=\" ,m1)"
   ]
  },
  {
   "cell_type": "code",
   "execution_count": 22,
   "id": "f8d9425f",
   "metadata": {},
   "outputs": [
    {
     "name": "stdout",
     "output_type": "stream",
     "text": [
      "enter the number to get fibonacci sequence 6\n",
      "fibonacci sequence is [1, 1, 2, 3, 5, 8]\n"
     ]
    }
   ],
   "source": [
    "f = int(input(\"enter the number to get fibonacci sequence \"))\n",
    "a=1\n",
    "b=1\n",
    "l=[a,b]\n",
    "if f>0:\n",
    "    while len(l)<f:\n",
    "        a,b = b ,a+b \n",
    "        l.append(b)\n",
    "    print(\"fibonacci sequence is\", l)\n",
    "else:\n",
    "    print(\"incorrect input\")"
   ]
  },
  {
   "cell_type": "code",
   "execution_count": 23,
   "id": "67a65e63",
   "metadata": {},
   "outputs": [
    {
     "name": "stdout",
     "output_type": "stream",
     "text": [
      "enter a number 8208\n",
      " this number is an amstrong number\n"
     ]
    }
   ],
   "source": [
    "A = int(input(\"enter a number \"))\n",
    "A1 =str(A)\n",
    "S =0 \n",
    "for i in A1:\n",
    "    k=int(i)\n",
    "    S = S + k**len(A1)\n",
    "if S == A:\n",
    "    print(\" this number is an amstrong number\")\n",
    "else:\n",
    "    print(\"the number is not an amstrong number\")"
   ]
  },
  {
   "cell_type": "code",
   "execution_count": 51,
   "id": "9b8d2155",
   "metadata": {},
   "outputs": [
    {
     "name": "stdout",
     "output_type": "stream",
     "text": [
      "enter the min range 16\n",
      "enter the maximum range 270\n",
      "amstong numbers between 16 and 270 are [153]\n"
     ]
    }
   ],
   "source": [
    "try:\n",
    "    m =int(input(\"enter the min range \"))\n",
    "    n = int(input(\"enter the maximum range \"))\n",
    "    l=[]\n",
    "    for j in range(m,n):\n",
    "        A =str(j)\n",
    "        S =0 \n",
    "        for i in A:\n",
    "            k=int(i)\n",
    "            S = S + k**len(A)\n",
    "            if S == j:\n",
    "                l.append(j)\n",
    "    print(\"amstong numbers between {} and {} are\".format(m,n),l)\n",
    "except Exception as e:\n",
    "    print(e)"
   ]
  },
  {
   "cell_type": "code",
   "execution_count": 52,
   "id": "6edc4f4e",
   "metadata": {},
   "outputs": [
    {
     "name": "stdout",
     "output_type": "stream",
     "text": [
      "enter a natural number 70\n",
      "Sum of first 70 natural numbers is  2485\n"
     ]
    }
   ],
   "source": [
    "try:\n",
    "    N =int(input(\"enter a natural number \"))\n",
    "    S=0\n",
    "    for i in range(0,N+1):\n",
    "        S =S+i\n",
    "    print(\"Sum of first 70 natural numbers is \",S)\n",
    "except Exception as e:\n",
    "    print(e)"
   ]
  }
 ],
 "metadata": {
  "kernelspec": {
   "display_name": "Python 3 (ipykernel)",
   "language": "python",
   "name": "python3"
  },
  "language_info": {
   "codemirror_mode": {
    "name": "ipython",
    "version": 3
   },
   "file_extension": ".py",
   "mimetype": "text/x-python",
   "name": "python",
   "nbconvert_exporter": "python",
   "pygments_lexer": "ipython3",
   "version": "3.9.12"
  }
 },
 "nbformat": 4,
 "nbformat_minor": 5
}
