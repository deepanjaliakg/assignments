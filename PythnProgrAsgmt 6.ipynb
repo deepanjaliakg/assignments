{
 "cells": [
  {
   "cell_type": "code",
   "execution_count": 10,
   "id": "1b05fd47",
   "metadata": {},
   "outputs": [],
   "source": [
    "def fibonacci(k):\n",
    "    def recfibo(n):\n",
    "        if n <= 1:\n",
    "            return n\n",
    "        else:\n",
    "            return recfibo(n-1) + recfibo(n-2)\n",
    "  \n",
    "    if k<=0:\n",
    "        print(\"enter a valid number\")\n",
    "    else:\n",
    "        for i in range(k):\n",
    "            print(recfibo(i))"
   ]
  },
  {
   "cell_type": "code",
   "execution_count": 11,
   "id": "8c7f45da",
   "metadata": {},
   "outputs": [
    {
     "name": "stdout",
     "output_type": "stream",
     "text": [
      "0\n",
      "1\n",
      "1\n",
      "2\n",
      "3\n",
      "5\n",
      "8\n",
      "13\n",
      "21\n",
      "34\n",
      "55\n"
     ]
    }
   ],
   "source": [
    "fibonacci(11)"
   ]
  },
  {
   "cell_type": "code",
   "execution_count": 13,
   "id": "92cd9839",
   "metadata": {},
   "outputs": [],
   "source": [
    "def recfac(n):\n",
    "    if n <= 2:\n",
    "        return n\n",
    "    else:\n",
    "        return recfac(n-1) * n"
   ]
  },
  {
   "cell_type": "code",
   "execution_count": 14,
   "id": "ca2be287",
   "metadata": {},
   "outputs": [
    {
     "data": {
      "text/plain": [
       "120"
      ]
     },
     "execution_count": 14,
     "metadata": {},
     "output_type": "execute_result"
    }
   ],
   "source": [
    "recfac(5)"
   ]
  },
  {
   "cell_type": "code",
   "execution_count": 35,
   "id": "1f9192aa",
   "metadata": {},
   "outputs": [
    {
     "name": "stdout",
     "output_type": "stream",
     "text": [
      "enter the height in cm 161\n",
      " enter the weight in kg 59\n",
      " Your BMI is  22.761467535974692\n",
      "your weight is normal\n"
     ]
    }
   ],
   "source": [
    "try:\n",
    "    H = float(input(\"enter the height in cm \"))\n",
    "    W = float(input(\" enter the weight in kg \"))\n",
    "    BMI = (W/H**2)*10000\n",
    "    print (\" Your BMI is \",BMI)\n",
    "except Exception as e:\n",
    "    print (e)\n",
    "if BMI<18.5:\n",
    "    print(\" you are underweight\")\n",
    "elif 18.5<=BMI<25:\n",
    "    print(\"your weight is normal\")\n",
    "else:\n",
    "    print(\"you are overweight\")"
   ]
  },
  {
   "cell_type": "code",
   "execution_count": 40,
   "id": "06176217",
   "metadata": {},
   "outputs": [],
   "source": [
    "import numpy as np\n",
    "def lnat(x):\n",
    "    return np.log(x)"
   ]
  },
  {
   "cell_type": "code",
   "execution_count": 43,
   "id": "a0711a9e",
   "metadata": {},
   "outputs": [
    {
     "data": {
      "text/plain": [
       "1.9459101490553132"
      ]
     },
     "execution_count": 43,
     "metadata": {},
     "output_type": "execute_result"
    }
   ],
   "source": [
    "lnat(7)"
   ]
  },
  {
   "cell_type": "code",
   "execution_count": 80,
   "id": "6ee9b54e",
   "metadata": {},
   "outputs": [
    {
     "name": "stdout",
     "output_type": "stream",
     "text": [
      " enter a natural number 25\n",
      "105625\n"
     ]
    }
   ],
   "source": [
    "try:\n",
    "    n = int(input(\" enter a natural number \"))\n",
    "    S = 0\n",
    "    if n<=0:\n",
    "        print(\" enter a natural number \")\n",
    "    elif n ==1:\n",
    "        S = S+1\n",
    "        print(S)\n",
    "    else:\n",
    "        for i in range(n+1):\n",
    "            S = S + i**3\n",
    "        print (S)\n",
    "except Exception as e:\n",
    "    print (e)"
   ]
  }
 ],
 "metadata": {
  "kernelspec": {
   "display_name": "Python 3 (ipykernel)",
   "language": "python",
   "name": "python3"
  },
  "language_info": {
   "codemirror_mode": {
    "name": "ipython",
    "version": 3
   },
   "file_extension": ".py",
   "mimetype": "text/x-python",
   "name": "python",
   "nbconvert_exporter": "python",
   "pygments_lexer": "ipython3",
   "version": "3.9.12"
  }
 },
 "nbformat": 4,
 "nbformat_minor": 5
}
