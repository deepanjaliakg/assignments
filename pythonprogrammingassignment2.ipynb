{
 "cells": [
  {
   "cell_type": "code",
   "execution_count": 17,
   "id": "62092a6a",
   "metadata": {},
   "outputs": [],
   "source": [
    "def km_mile(K):\n",
    "    M = K/1.609\n",
    "    return M"
   ]
  },
  {
   "cell_type": "code",
   "execution_count": 19,
   "id": "4e944b8e",
   "metadata": {},
   "outputs": [
    {
     "data": {
      "text/plain": [
       "6.215040397762586"
      ]
     },
     "execution_count": 19,
     "metadata": {},
     "output_type": "execute_result"
    }
   ],
   "source": [
    "km_mile(10)"
   ]
  },
  {
   "cell_type": "code",
   "execution_count": 20,
   "id": "5af76eec",
   "metadata": {},
   "outputs": [],
   "source": [
    "def cel_far(C):\n",
    "    F = C*9/5+32\n",
    "    return F"
   ]
  },
  {
   "cell_type": "code",
   "execution_count": 23,
   "id": "84603b24",
   "metadata": {},
   "outputs": [
    {
     "data": {
      "text/plain": [
       "73.4"
      ]
     },
     "execution_count": 23,
     "metadata": {},
     "output_type": "execute_result"
    }
   ],
   "source": [
    "cel_far(23)"
   ]
  },
  {
   "cell_type": "code",
   "execution_count": 30,
   "id": "dc549568",
   "metadata": {},
   "outputs": [
    {
     "name": "stdout",
     "output_type": "stream",
     "text": [
      "    October 2014\n",
      "Mo Tu We Th Fr Sa Su\n",
      "       1  2  3  4  5\n",
      " 6  7  8  9 10 11 12\n",
      "13 14 15 16 17 18 19\n",
      "20 21 22 23 24 25 26\n",
      "27 28 29 30 31\n",
      "    September 2016\n",
      "Mo Tu We Th Fr Sa Su\n",
      "          1  2  3  4\n",
      " 5  6  7  8  9 10 11\n",
      "12 13 14 15 16 17 18\n",
      "19 20 21 22 23 24 25\n",
      "26 27 28 29 30\n",
      "\n"
     ]
    }
   ],
   "source": [
    "import calendar\n",
    "print(calendar.month(2014,10), calendar.month(2016,9))"
   ]
  },
  {
   "cell_type": "code",
   "execution_count": 83,
   "id": "a71aa84a",
   "metadata": {},
   "outputs": [],
   "source": [
    "def quadratic(a,b,c):\n",
    "    d =float( b**2 - 4*a*c)\n",
    "    s1 = (-b/2 + d**0.5/2)/a\n",
    "    s2 = (-b/2 - d**0.5/2)/a\n",
    "    print(\"the roots are \",s1,s2)"
   ]
  },
  {
   "cell_type": "code",
   "execution_count": 82,
   "id": "ca931fc8",
   "metadata": {},
   "outputs": [
    {
     "name": "stdout",
     "output_type": "stream",
     "text": [
      "the roots are  (-0.24999999999999997+0.4330127018922193j) (-0.25-0.4330127018922193j)\n"
     ]
    }
   ],
   "source": [
    "quadratic(4,2,1)"
   ]
  },
  {
   "cell_type": "code",
   "execution_count": 91,
   "id": "8032c0ef",
   "metadata": {},
   "outputs": [],
   "source": [
    "def swap(x,y):\n",
    "    x,y = y,x\n",
    "    return x,y"
   ]
  },
  {
   "cell_type": "code",
   "execution_count": 93,
   "id": "54786fb2",
   "metadata": {},
   "outputs": [
    {
     "data": {
      "text/plain": [
       "(3, 2)"
      ]
     },
     "execution_count": 93,
     "metadata": {},
     "output_type": "execute_result"
    }
   ],
   "source": [
    "swap(2,3)"
   ]
  }
 ],
 "metadata": {
  "kernelspec": {
   "display_name": "Python 3 (ipykernel)",
   "language": "python",
   "name": "python3"
  },
  "language_info": {
   "codemirror_mode": {
    "name": "ipython",
    "version": 3
   },
   "file_extension": ".py",
   "mimetype": "text/x-python",
   "name": "python",
   "nbconvert_exporter": "python",
   "pygments_lexer": "ipython3",
   "version": "3.9.12"
  }
 },
 "nbformat": 4,
 "nbformat_minor": 5
}
