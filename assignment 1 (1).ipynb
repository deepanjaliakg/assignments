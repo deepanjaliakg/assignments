{
 "cells": [
  {
   "cell_type": "markdown",
   "id": "60be189f",
   "metadata": {},
   "source": [
    "#In the below elements which of them are values or an expression? eg:- values can be\n",
    "integer or string and expressions will be mathematical operators.\n",
    "*,hello,-87.8,-,/,+,6\n",
    "\n",
    "2. What is the difference between string and variable?\n",
    "\n",
    "3. Describe three different data types.\n",
    "\n",
    "4. What is an expression made up of? What do all expressions do?\n",
    "5. This assignment statements, like spam = 10. What is the difference between an\n",
    "expression and a statement?\n",
    "6. After running the following code, what does the variable bacon contain?\n",
    "bacon = 22\n",
    "bacon + 1\n",
    "\n",
    "7. What should the values of the following two terms be?\n",
    "&#39;spam&#39; + &#39;spamspam&#39;\n",
    "&#39;spam&#39; * 3\n",
    "\n",
    "8. Why is eggs a valid variable name while 100 is invalid?\n",
    "\n",
    "9. What three functions can be used to get the integer, floating-point number, or string\n",
    "version of a value?\n",
    "10. Why does this expression cause an error? How can you fix it?\n",
    "&#39;I have eaten &#39; + 99 + &#39; burritos.&#39;#"
   ]
  },
  {
   "cell_type": "markdown",
   "id": "854a4699",
   "metadata": {},
   "source": [
    "# 1.values- 'hello',-87.8,6\n",
    "expressions- *,-,/,+     "
   ]
  },
  {
   "cell_type": "markdown",
   "id": "849fcaea",
   "metadata": {},
   "source": [
    "2. String is a type of data and variable is a place to store any kind of data.\n",
    "   eg: \"abc\" is a string whereas in abc = 4 , abc is a variable used to store the integer 4."
   ]
  },
  {
   "cell_type": "markdown",
   "id": "ff85d7c7",
   "metadata": {},
   "source": [
    "3. integer(int): Integer data type stores positive and negative integers including zero. Eg :5,6,7\n",
    "   \n",
    "   List( list):List are used to store collection of data in one variable. The list elements are enclosed in square brackets.In    a list any type of data can be stored. Each element in a list has an index number. Eg l= [1,2,3,\"d\",\"a\",\"p\"]\n",
    "   \n",
    "   Dictionary(dict): Dictionary is used to store key value pair as data. Values in a dictionary can be any type of data but  a    key can not be a list or dictionary .A key must be unique."
   ]
  },
  {
   "cell_type": "markdown",
   "id": "1b77b3a5",
   "metadata": {},
   "source": [
    "4. An expression is a combination of operators and values.An expression produce another value.\n",
    "     Eg: 7+9"
   ]
  },
  {
   "cell_type": "markdown",
   "id": "1285b3ad",
   "metadata": {},
   "source": [
    "5. An expression gives another value. A statement says some information or assigns a value to a variable. "
   ]
  },
  {
   "cell_type": "markdown",
   "id": "3414831e",
   "metadata": {},
   "source": [
    "6. If 22bacon and 1 are strings the the variable 22bacon+1 will contain the string \"22bacon1\". Otherwise we can not perform the    operation between a string and an integer."
   ]
  },
  {
   "cell_type": "markdown",
   "id": "2ecc47b1",
   "metadata": {},
   "source": [
    "7. 'spam'+\"spamspam\"=\"spamspamspam\"\n",
    "                     \"spam\"*3= \"spamspamspam\"\n"
   ]
  },
  {
   "cell_type": "markdown",
   "id": "4d173a9e",
   "metadata": {},
   "source": [
    "8. egg is not a literal where as 100 is a literal ,it is an integer datatype. "
   ]
  },
  {
   "cell_type": "markdown",
   "id": "6a41e0b6",
   "metadata": {},
   "source": [
    "9. int(), float(), str()"
   ]
  },
  {
   "cell_type": "markdown",
   "id": "576f8681",
   "metadata": {},
   "source": [
    "10. Here we can not add a string and integer. If we convert 99 as a string then we can do the operation.                                            \"i have eaten\"+\"99\"+\"burritos"
   ]
  }
 ],
 "metadata": {
  "kernelspec": {
   "display_name": "Python 3 (ipykernel)",
   "language": "python",
   "name": "python3"
  },
  "language_info": {
   "codemirror_mode": {
    "name": "ipython",
    "version": 3
   },
   "file_extension": ".py",
   "mimetype": "text/x-python",
   "name": "python",
   "nbconvert_exporter": "python",
   "pygments_lexer": "ipython3",
   "version": "3.9.12"
  }
 },
 "nbformat": 4,
 "nbformat_minor": 5
}
