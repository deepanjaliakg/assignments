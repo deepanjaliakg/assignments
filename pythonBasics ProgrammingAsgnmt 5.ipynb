{
 "cells": [
  {
   "cell_type": "code",
   "execution_count": 12,
   "id": "8869fce5",
   "metadata": {},
   "outputs": [
    {
     "data": {
      "text/plain": [
       "3024"
      ]
     },
     "execution_count": 12,
     "metadata": {},
     "output_type": "execute_result"
    }
   ],
   "source": [
    "import math\n",
    "math.lcm(7,16,27)"
   ]
  },
  {
   "cell_type": "code",
   "execution_count": 13,
   "id": "6196e5de",
   "metadata": {},
   "outputs": [
    {
     "data": {
      "text/plain": [
       "1"
      ]
     },
     "execution_count": 13,
     "metadata": {},
     "output_type": "execute_result"
    }
   ],
   "source": [
    "math.gcd(7,23,26)"
   ]
  },
  {
   "cell_type": "code",
   "execution_count": 14,
   "id": "555c6863",
   "metadata": {},
   "outputs": [
    {
     "name": "stdout",
     "output_type": "stream",
     "text": [
      "enter the number 16\n",
      "binary   10000\n",
      "octal   20\n",
      "hexadecimal  10\n"
     ]
    }
   ],
   "source": [
    "n = int(input(\"enter the number \"))\n",
    "if n>1:\n",
    "    print(\"binary \", bin(n).replace(\"0b\", \" \"))\n",
    "    \n",
    "    print(\"octal \",oct(n).replace(\"0o\", \" \"))\n",
    "    \n",
    "    print(\"hexadecimal\",hex(n).replace(\"0x\", \" \"))"
   ]
  },
  {
   "cell_type": "code",
   "execution_count": 15,
   "id": "60341d4e",
   "metadata": {},
   "outputs": [
    {
     "name": "stdout",
     "output_type": "stream",
     "text": [
      "enter a charactor  p\n",
      "ASCII value of s is 112\n"
     ]
    }
   ],
   "source": [
    "s = input(\"enter a charactor  \")\n",
    "print(\"ASCII value of s is\",ord(s))"
   ]
  },
  {
   "cell_type": "code",
   "execution_count": 11,
   "id": "70ec9774",
   "metadata": {},
   "outputs": [
    {
     "name": "stdout",
     "output_type": "stream",
     "text": [
      "1.add\n",
      "2.subtraction\n",
      "3.product\n",
      "4.div\n",
      "enter an operator 1/2/3/4: 1\n",
      "enter x 2\n",
      "enter y -5\n",
      "2.0 + -5.0 = -3.0\n",
      "enter an operator 1/2/3/4: 2\n",
      "enter x 3\n",
      "enter y 7\n",
      "3.0 - 7.0 = -4.0\n",
      "enter an operator 1/2/3/4: 3\n",
      "enter x 4\n",
      "enter y 5\n",
      "4.0 * 5.0 = 20.0\n",
      "enter an operator 1/2/3/4: 4\n",
      "enter x 5\n",
      "enter y 0\n",
      "float division by zero\n",
      "enter an operator 1/2/3/4: 5\n",
      "invalid operator \n"
     ]
    }
   ],
   "source": [
    "print(\"1.add\")\n",
    "print(\"2.subtraction\")\n",
    "print(\"3.product\")\n",
    "print(\"4.div\")\n",
    "\n",
    "while True:\n",
    "    choice = input(\"enter an operator 1/2/3/4: \")\n",
    "    if choice in {\"1\",\"2\",\"3\",\"4\"}:\n",
    "        x = float(input(\"enter x \"))\n",
    "        y =float(input( \"enter y \"))\n",
    "        if choice ==\"1\":\n",
    "            print(x,\"+\",y,\"=\", x+y)\n",
    "        elif choice ==\"2\":\n",
    "            print(x,\"-\",y,\"=\", x-y)\n",
    "        elif choice ==\"3\":\n",
    "            print(x,\"*\",y,\"=\", x*y)\n",
    "        elif choice ==\"4\":\n",
    "            try:\n",
    "                print(x,\"/\",y,\"=\", x/y)\n",
    "            except Exception as e:\n",
    "                print(e)\n",
    "    else:\n",
    "        print(\"invalid operator \")\n",
    "        break"
   ]
  }
 ],
 "metadata": {
  "kernelspec": {
   "display_name": "Python 3 (ipykernel)",
   "language": "python",
   "name": "python3"
  },
  "language_info": {
   "codemirror_mode": {
    "name": "ipython",
    "version": 3
   },
   "file_extension": ".py",
   "mimetype": "text/x-python",
   "name": "python",
   "nbconvert_exporter": "python",
   "pygments_lexer": "ipython3",
   "version": "3.9.12"
  }
 },
 "nbformat": 4,
 "nbformat_minor": 5
}
