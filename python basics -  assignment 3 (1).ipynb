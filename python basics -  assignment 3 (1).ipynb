{
 "cells": [
  {
   "cell_type": "markdown",
   "id": "c7f7faa5",
   "metadata": {},
   "source": [
    "    1. Function will reduce the length of a programme. Any time we can call a function to make the pogramme more simple and            easy."
   ]
  },
  {
   "cell_type": "markdown",
   "id": "0ba908cf",
   "metadata": {},
   "source": [
    "    2. The code in a function will run after calling it."
   ]
  },
  {
   "cell_type": "markdown",
   "id": "01a0fc3b",
   "metadata": {},
   "source": [
    "    3. def statement followed by function name can be used to create a function."
   ]
  },
  {
   "cell_type": "markdown",
   "id": "b053f660",
   "metadata": {},
   "source": [
    "    4. Function is a set of code. Function call can be done after definig it , the function will work with function call only."
   ]
  },
  {
   "cell_type": "markdown",
   "id": "ef760a2a",
   "metadata": {},
   "source": [
    "    5. There is only one global scope and many local scope in a python programme."
   ]
  },
  {
   "cell_type": "markdown",
   "id": "e7410f90",
   "metadata": {},
   "source": [
    "    6. The variable will be created ."
   ]
  },
  {
   "cell_type": "markdown",
   "id": "75f9db6a",
   "metadata": {},
   "source": [
    "    7. Return statement is to stop the execution of the function and to return the result.Return value in an expression is            possible."
   ]
  },
  {
   "cell_type": "markdown",
   "id": "b0228946",
   "metadata": {},
   "source": [
    "    8. If a function does not have a return statement ,then it returns none after function call."
   ]
  },
  {
   "cell_type": "markdown",
   "id": "26bab58d",
   "metadata": {},
   "source": [
    "    9. To make a function variable refer to a global variable use the keyword global to declare which variable are global."
   ]
  },
  {
   "cell_type": "markdown",
   "id": "f61ae351",
   "metadata": {},
   "source": [
    "    10. The type of none is NoneType."
   ]
  },
  {
   "cell_type": "markdown",
   "id": "aaea59ad",
   "metadata": {},
   "source": [
    "    11. It imports a module named areallyourpetsnamederic, but it is not a python module."
   ]
  },
  {
   "cell_type": "markdown",
   "id": "752867fb",
   "metadata": {},
   "source": [
    "    12. spam.bacon() can be used to call bacon()."
   ]
  },
  {
   "cell_type": "markdown",
   "id": "68438620",
   "metadata": {},
   "source": [
    "    13. Use exception handling, place the code inside try block to save the programme."
   ]
  },
  {
   "cell_type": "markdown",
   "id": "8ba6efc2",
   "metadata": {},
   "source": [
    "   14. Try clause is to place the code which may cause an error and if the error happens the code in the except clause will            run."
   ]
  }
 ],
 "metadata": {
  "kernelspec": {
   "display_name": "Python 3 (ipykernel)",
   "language": "python",
   "name": "python3"
  },
  "language_info": {
   "codemirror_mode": {
    "name": "ipython",
    "version": 3
   },
   "file_extension": ".py",
   "mimetype": "text/x-python",
   "name": "python",
   "nbconvert_exporter": "python",
   "pygments_lexer": "ipython3",
   "version": "3.9.12"
  }
 },
 "nbformat": 4,
 "nbformat_minor": 5
}
