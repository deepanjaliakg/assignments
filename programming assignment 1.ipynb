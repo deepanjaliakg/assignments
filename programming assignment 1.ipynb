{
 "cells": [
  {
   "cell_type": "code",
   "execution_count": 1,
   "id": "a37dc13f",
   "metadata": {},
   "outputs": [
    {
     "name": "stdout",
     "output_type": "stream",
     "text": [
      "hello python\n"
     ]
    }
   ],
   "source": [
    "print(\"hello python\")"
   ]
  },
  {
   "cell_type": "code",
   "execution_count": 11,
   "id": "209c98b1",
   "metadata": {},
   "outputs": [],
   "source": [
    "def adddiv(a,b):\n",
    "    x= a+b\n",
    "    y= a/b\n",
    "    return x,y"
   ]
  },
  {
   "cell_type": "code",
   "execution_count": 13,
   "id": "5664f429",
   "metadata": {},
   "outputs": [
    {
     "data": {
      "text/plain": [
       "(15, 2.0)"
      ]
     },
     "execution_count": 13,
     "metadata": {},
     "output_type": "execute_result"
    }
   ],
   "source": [
    "adddiv(10,5)"
   ]
  },
  {
   "cell_type": "code",
   "execution_count": 41,
   "id": "288914d4",
   "metadata": {},
   "outputs": [],
   "source": [
    "def aretriangle(a,b,c):\n",
    "    if a+b<=c or a+c<=b or c+b<=a:\n",
    "        print(\"invalid input, triangle is  not possible \")\n",
    "    else:\n",
    "        s=((a+b+c)/2)\n",
    "        A= (s*(s-a)*(s-b)*(s-c))**0.5\n",
    "        return A  "
   ]
  },
  {
   "cell_type": "code",
   "execution_count": 43,
   "id": "74bbce29",
   "metadata": {},
   "outputs": [
    {
     "data": {
      "text/plain": [
       "8.181534085976786"
      ]
     },
     "execution_count": 43,
     "metadata": {},
     "output_type": "execute_result"
    }
   ],
   "source": [
    "aretriangle(4,5,8)"
   ]
  },
  {
   "cell_type": "code",
   "execution_count": 3,
   "id": "cfd1d36b",
   "metadata": {},
   "outputs": [],
   "source": [
    "def swap(a,b):\n",
    "    a,b=b,a\n",
    "    return a,b"
   ]
  },
  {
   "cell_type": "code",
   "execution_count": 4,
   "id": "11b70a63",
   "metadata": {},
   "outputs": [
    {
     "data": {
      "text/plain": [
       "(3, 10)"
      ]
     },
     "execution_count": 4,
     "metadata": {},
     "output_type": "execute_result"
    }
   ],
   "source": [
    "swap(10,3)"
   ]
  },
  {
   "cell_type": "code",
   "execution_count": 6,
   "id": "1f456fcd",
   "metadata": {},
   "outputs": [
    {
     "name": "stdout",
     "output_type": "stream",
     "text": [
      "Note: you may need to restart the kernel to use updated packages.\n"
     ]
    },
    {
     "name": "stderr",
     "output_type": "stream",
     "text": [
      "ERROR: unknown command \"!\"\n",
      "\n"
     ]
    }
   ],
   "source": [
    "pip! import random"
   ]
  },
  {
   "cell_type": "code",
   "execution_count": 13,
   "id": "28fcead7",
   "metadata": {},
   "outputs": [
    {
     "name": "stdout",
     "output_type": "stream",
     "text": [
      "40\n"
     ]
    }
   ],
   "source": [
    "print(random.randint(30,70))"
   ]
  }
 ],
 "metadata": {
  "kernelspec": {
   "display_name": "Python 3 (ipykernel)",
   "language": "python",
   "name": "python3"
  },
  "language_info": {
   "codemirror_mode": {
    "name": "ipython",
    "version": 3
   },
   "file_extension": ".py",
   "mimetype": "text/x-python",
   "name": "python",
   "nbconvert_exporter": "python",
   "pygments_lexer": "ipython3",
   "version": "3.9.12"
  }
 },
 "nbformat": 4,
 "nbformat_minor": 5
}
