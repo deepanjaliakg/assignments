{
 "cells": [
  {
   "cell_type": "code",
   "execution_count": 1,
   "id": "f87d785e",
   "metadata": {},
   "outputs": [],
   "source": [
    "# 1. Two values of Boolean data type are True and False. Only the first letters of these should be capital."
   ]
  },
  {
   "cell_type": "code",
   "execution_count": 8,
   "id": "6641e770",
   "metadata": {},
   "outputs": [],
   "source": [
    "# 2. AND , OR, NOT"
   ]
  },
  {
   "cell_type": "code",
   "execution_count": 10,
   "id": "8b46a576",
   "metadata": {},
   "outputs": [],
   "source": [
    "# 3. T and T = T\n",
    "#    T and F = F\n",
    "#    F and T = F\n",
    "#    F and F = F"
   ]
  },
  {
   "cell_type": "code",
   "execution_count": 18,
   "id": "9d849c27",
   "metadata": {},
   "outputs": [],
   "source": [
    "# 4. bool (5>4 and 3==5) is False\n",
    "#    bool(not 5>4) is False\n",
    "#    bool(5>4 or 3==5) is True\n",
    "#    bool( not 5>4  or 3==5) is False\n",
    "#    bool((True and True) and (True ==False)) =bool(True and False) =False\n",
    "#    bool(not False or not True)= True"
   ]
  },
  {
   "cell_type": "code",
   "execution_count": 19,
   "id": "260f5682",
   "metadata": {},
   "outputs": [],
   "source": [
    "# 5. == , !=, >, <, >=, <="
   ]
  },
  {
   "cell_type": "code",
   "execution_count": 31,
   "id": "cc4682ae",
   "metadata": {},
   "outputs": [
    {
     "name": "stdout",
     "output_type": "stream",
     "text": [
      "True\n",
      "False\n"
     ]
    }
   ],
   "source": [
    "# 6. Equal operators is to check whether two values are equal or not, \n",
    "#    and assignment operator is used to assign a value to avatiable.\n",
    "#    eg: a = 6, here = is the assignment operator which assigns 6 to yhe variable a.\n",
    "#        if a==6, here == is the equal operator to  check whether a is 6 or not. \n",
    "a = 5\n",
    "b = 7\n",
    "print(a == 5)\n",
    "print(b == 8)  # here first we canassign the value to a and b using =, and then it is checking for the values of the a and b."
   ]
  },
  {
   "cell_type": "code",
   "execution_count": 37,
   "id": "40bbc634",
   "metadata": {},
   "outputs": [],
   "source": [
    "# 7. if  - print(\"eggs\")\n",
    "#    if - print(\"bacon\")\n",
    "#    if - print(\"ham\")"
   ]
  },
  {
   "cell_type": "code",
   "execution_count": 58,
   "id": "fa14e1f9",
   "metadata": {},
   "outputs": [
    {
     "name": "stdout",
     "output_type": "stream",
     "text": [
      "Greetings\n"
     ]
    }
   ],
   "source": [
    "# 8\n",
    "spam = 3\n",
    "if spam==1:\n",
    "    print(\"Hello\")\n",
    "    \n",
    "elif spam==2:\n",
    "    print(\"Howdy\")\n",
    "\n",
    "else:\n",
    "    print(\"Greetings\")"
   ]
  },
  {
   "cell_type": "code",
   "execution_count": 57,
   "id": "738409b4",
   "metadata": {},
   "outputs": [],
   "source": [
    "# 9. Kernel - Restart"
   ]
  },
  {
   "cell_type": "code",
   "execution_count": 82,
   "id": "63d51ed7",
   "metadata": {},
   "outputs": [],
   "source": [
    "# 10. break keyword terminates the current loop and go to the next loop or main body, \n",
    "#    continue will stop the current iteration of the loop and go to the next iteration."
   ]
  },
  {
   "cell_type": "code",
   "execution_count": 118,
   "id": "abedd192",
   "metadata": {},
   "outputs": [],
   "source": [
    "# 11. range(10), range(0,10), range(0,10,1) are same"
   ]
  },
  {
   "cell_type": "code",
   "execution_count": 121,
   "id": "8d68583e",
   "metadata": {},
   "outputs": [
    {
     "name": "stdout",
     "output_type": "stream",
     "text": [
      "1\n",
      "2\n",
      "3\n",
      "4\n",
      "5\n",
      "6\n",
      "7\n",
      "8\n",
      "9\n",
      "10\n"
     ]
    }
   ],
   "source": [
    "# 12\n",
    "for i in range(1,11):\n",
    "    print(i)"
   ]
  },
  {
   "cell_type": "code",
   "execution_count": 10,
   "id": "0a5db09b",
   "metadata": {},
   "outputs": [
    {
     "name": "stdout",
     "output_type": "stream",
     "text": [
      "1\n",
      "2\n",
      "3\n",
      "4\n",
      "5\n",
      "6\n",
      "7\n",
      "8\n",
      "9\n",
      "10\n"
     ]
    }
   ],
   "source": [
    "i=1\n",
    "while i<=10:\n",
    "    print(i)\n",
    "    i=i+1"
   ]
  },
  {
   "cell_type": "code",
   "execution_count": 11,
   "id": "4dc12b3b",
   "metadata": {},
   "outputs": [],
   "source": [
    "#13. spam.bacon()"
   ]
  }
 ],
 "metadata": {
  "kernelspec": {
   "display_name": "Python 3 (ipykernel)",
   "language": "python",
   "name": "python3"
  },
  "language_info": {
   "codemirror_mode": {
    "name": "ipython",
    "version": 3
   },
   "file_extension": ".py",
   "mimetype": "text/x-python",
   "name": "python",
   "nbconvert_exporter": "python",
   "pygments_lexer": "ipython3",
   "version": "3.9.12"
  }
 },
 "nbformat": 4,
 "nbformat_minor": 5
}
