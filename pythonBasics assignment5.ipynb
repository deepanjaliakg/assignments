{
 "cells": [
  {
   "cell_type": "markdown",
   "id": "fb1669fd",
   "metadata": {},
   "source": [
    "   1    {}"
   ]
  },
  {
   "cell_type": "markdown",
   "id": "5ff88883",
   "metadata": {},
   "source": [
    "  2.    {\"foo\" : 42}     \n",
    "         Value of \"foo\" is 42.\n",
    "   "
   ]
  },
  {
   "cell_type": "markdown",
   "id": "5b4ee3de",
   "metadata": {},
   "source": [
    "   3. The items in a dictionary are key value pair, the items in a list are single elements. "
   ]
  },
  {
   "cell_type": "markdown",
   "id": "94eb19a3",
   "metadata": {},
   "source": [
    "  4. We will get an error, because \"foo\" key is not available in spam."
   ]
  },
  {
   "cell_type": "markdown",
   "id": "17a7bbfa",
   "metadata": {},
   "source": [
    "  5. There is no difference between \"cat\" in spam and \"cat\" in spam.keys(). Both will check whether \"cat\"  exist as a key."
   ]
  },
  {
   "cell_type": "markdown",
   "id": "75903199",
   "metadata": {},
   "source": [
    "  6.  \"cat\" in spam check whether \"cat\" is available as a key in spam, \n",
    "       and \"cat\" in spam.values() check whether \"cat\" is avilable in spam as a value."
   ]
  },
  {
   "cell_type": "markdown",
   "id": "ada99443",
   "metadata": {},
   "source": [
    "  7. spam.setdefault(\"colour\",\"black\")"
   ]
  },
  {
   "cell_type": "markdown",
   "id": "60084861",
   "metadata": {},
   "source": [
    "  8. pprint.pprint()"
   ]
  }
 ],
 "metadata": {
  "kernelspec": {
   "display_name": "Python 3 (ipykernel)",
   "language": "python",
   "name": "python3"
  },
  "language_info": {
   "codemirror_mode": {
    "name": "ipython",
    "version": 3
   },
   "file_extension": ".py",
   "mimetype": "text/x-python",
   "name": "python",
   "nbconvert_exporter": "python",
   "pygments_lexer": "ipython3",
   "version": "3.9.12"
  }
 },
 "nbformat": 4,
 "nbformat_minor": 5
}
